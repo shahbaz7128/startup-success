{
 "cells": [
  {
   "cell_type": "code",
   "execution_count": 3,
   "metadata": {},
   "outputs": [],
   "source": [
    "import numpy as np\n",
    "import pandas as pd\n",
    "from sklearn.model_selection import train_test_split\n",
    "from sklearn.linear_model import LogisticRegression\n",
    "import pickle\n",
    "import requests\n",
    "import json\n",
    "import warnings\n",
    "warnings.filterwarnings('ignore')\n",
    "import streamlit as st\n",
    "import datetime"
   ]
  },
  {
   "cell_type": "code",
   "execution_count": 4,
   "metadata": {},
   "outputs": [],
   "source": [
    "st.write(\"\"\"\n",
    "Startup future prediction app\n",
    "\"\"\")\n",
    "\n",
    "st.sidebar.header('User Input Features')\n",
    "\n",
    "def user_input_features():\n",
    "#     country_code = st.sidebar.selectbox('Country Code',('USA','GBR','IND','CAN','DEU','AUS','FRA','ESP','NLD','ISR','IRL','BRA','other'))\n",
    "#     category_code = st.sidebar.selectbox('Category Code',('software','web','ecommerce','advertising','consulting','mobile','games_video','enterprise',\n",
    "#               'public_relations','network_hosting','hardware','education','search','biotech','other'))\n",
    "    funding_total = st.number_input('Total funding (USD)')\n",
    "    latitude = st.number_input('Latitude')\n",
    "    longitude = st.number_input('Longitude')\n",
    "    relationships = st.sidebar.slider('Relationship', 0,30,1)\n",
    "    funding_rounds = st.sidebar.slider('Funding Rounds', 0,30,1)\n",
    "    milestones = st.sidebar.slider('Milestones', -10,50,1)\n",
    "    founded_at = st.date_input(\"Enter Date\",min_value=datetime.date(1900, 1, 1),max_value=datetime.date(2023, 2, 2))\n",
    "# 'category_code': category_code,\n",
    "    data_ = {'founded_at': founded_at,'funding_rounds': funding_rounds,\n",
    "            'funding_total_usd': funding_total,\n",
    "            'milestones': milestones,\n",
    "            'relationships': relationships,\n",
    "            'lat': latitude,\n",
    "            'lng': longitude}\n",
    "                #             'country_code': country_code,\n",
    "    features = pd.DataFrame(data_, index=[0])\n",
    "    return features\n",
    "input_df = user_input_features()\n",
    "input_df[\"founded_at\"] = pd.to_datetime(input_df[\"founded_at\"], format = \"%Y-%m-%d\").dt.year"
   ]
  },
  {
   "cell_type": "code",
   "execution_count": 7,
   "metadata": {},
   "outputs": [],
   "source": [
    "companies_raw = pd.read_csv(r\"C:\\Users\\SHAHBAZ\\Desktop\\Technocolab\\new_features_data.csv\")\n",
    "companies = companies_raw.drop(columns=['status'])\n",
    "df = pd.concat([input_df,companies],axis=0)\n",
    "df = df.dropna(how='any',axis=0) \n",
    "# # Encoding of ordinal features\n",
    "# encode = ['country_code','category_code']\n",
    "# for col in encode:\n",
    "#     dummy = pd.get_dummies(df[col], prefix=col)\n",
    "#     df = pd.concat([df,dummy], axis=1)\n",
    "#     del df[col]\n",
    "df = df[:2] # Selects only the first row (the user input data)\n",
    "# # Displays the user input features\n",
    "\n",
    "st.subheader('User Input features')\n",
    "\n",
    "st.write(input_df)\n",
    "    \n",
    "    \n",
    "# # Reads in saved classification model\n",
    "log_reg = pickle.load(open('model_.pkl', 'rb'))\n",
    "\n",
    "# # Apply model to make predictions\n",
    "prediction = log_reg.predict(df)\n",
    "\n",
    "st.subheader('Prediction')\n",
    "if prediction[0] == 1:\n",
    "    st.write('Operating')\n",
    "else:\n",
    "    st.write('Not-Operating')\n",
    "\n"
   ]
  },
  {
   "cell_type": "code",
   "execution_count": null,
   "metadata": {},
   "outputs": [],
   "source": []
  }
 ],
 "metadata": {
  "kernelspec": {
   "display_name": "Python 3",
   "language": "python",
   "name": "python3"
  },
  "language_info": {
   "codemirror_mode": {
    "name": "ipython",
    "version": 3
   },
   "file_extension": ".py",
   "mimetype": "text/x-python",
   "name": "python",
   "nbconvert_exporter": "python",
   "pygments_lexer": "ipython3",
   "version": "3.7.4"
  }
 },
 "nbformat": 4,
 "nbformat_minor": 2
}
